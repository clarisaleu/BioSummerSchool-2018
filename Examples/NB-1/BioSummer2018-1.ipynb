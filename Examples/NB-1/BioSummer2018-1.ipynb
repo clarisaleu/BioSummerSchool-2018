{
 "cells": [
  {
   "cell_type": "markdown",
   "metadata": {
    "collapsed": true
   },
   "source": [
    "# Summer Institute for Research Education in Bioinformatics and Biostatististics\n"
   ]
  },
  {
   "cell_type": "markdown",
   "metadata": {},
   "source": [
    "## Entering text into your notebook\n",
    "\n",
    "Here is a cheatsheet for markdown https://github.com/adam-p/markdown-here/wiki/Markdown-Here-Cheatsheet\n",
    "\n",
    "Jupyter notebooks are composed of different cells. There are two different modes. Edit mode allows you to enter and edit text or code into the cells. Try double clicking on this cell. It should turn green and you should see \"\\#\" and \"\\*\" and \"\\\"s that weren't there before. These are part of the markdown language used by wikis. \n",
    "\n",
    "Try adding some text:\n",
    "\n",
    "### This notebook belongs to\n",
    "\n",
    "** NAME GOES HERE **\n",
    "\n",
    "Then save by going to the menu or using control-s. Because this is a web based version we need to update by hititing the reload button on your browser.\n",
    "\n",
    "Notice the use of \\*\\* for bolding and using \\#'s to indicate the levels of headings. Backslashes are used when we actually want a control character to appear. Markdown is very simple to use - a cheat sheet can be found here  https://github.com/adam-p/markdown-here/wiki/Markdown-Here-Cheatsheet"
   ]
  },
  {
   "cell_type": "markdown",
   "metadata": {},
   "source": [
    "## Entering code into your notebook\n",
    "\n",
    "A major difference between Jupyter notebooks and regular notebooks is the ability to add and run code inside your notebook. This notebook has been setup to run R code. Let's run the traditional exercise of a simple program to print out \"Hello World!\"\n",
    "\n",
    "Type into the  box below\n",
    "\n",
    "    print(\"Hello World\")\n",
    "    \n",
    "Then type **Shift-Enter**\n"
   ]
  },
  {
   "cell_type": "code",
   "execution_count": 29,
   "metadata": {
    "scrolled": true
   },
   "outputs": [
    {
     "name": "stdout",
     "output_type": "stream",
     "text": [
      "[1] \"Hello World\"\n"
     ]
    }
   ],
   "source": [
    "    print(\"Hello World\")"
   ]
  },
  {
   "cell_type": "markdown",
   "metadata": {},
   "source": [
    "## Exercise 1"
   ]
  },
  {
   "cell_type": "markdown",
   "metadata": {},
   "source": [
    "### Generate Frequency Distribution for Dataset 1: “Leadership Scores” for 30 students at Baylor University."
   ]
  },
  {
   "cell_type": "markdown",
   "metadata": {},
   "source": [
    "#### Install package for reading xlsx files\n",
    "\n",
    "R comes with many built in modules or packages. There are built-in functions such as read.csv to read in files in csv format. We could have saved our Excel files in this format and this is commonly done. However one of the advantages of R is that you have access to basically any tool any data scientist or statistician would ever want. Most of these are available through the CRAN repository and can be easily downloaded. The same simple procedure is used for any of these packages and we look at a simple one for reading native .xlsx Excel files\n",
    "\n",
    "However it can take quite a while to do an install. Some packages are quite complex and require compilation of code and installation of supporting packages - even to do the simplest things. For your convenience we have done all the installs ahead of time for the course. However, this won't always be the case so we will include the install commands for completeness and comment them out\n",
    "\n",
    "So normally you woult type type into the code cell below:\n",
    "\n",
    "     #    install.packages(\"readxl\")\n",
    "    \n",
    "Then type **Shift-Enter**\n",
    "\n",
    "If we did not have teh \\# download the readxl package and install it on your machine. You can do this if you want and it will take some time. All CRAN packages are installed this way and there are a LOT of CRAN packages. If you want check out https://cran.r-project.org/ . As of last count there were more than 12,000 packages. This is why people use R..."
   ]
  },
  {
   "cell_type": "code",
   "execution_count": 30,
   "metadata": {},
   "outputs": [],
   "source": [
    "# install.packages(\"readxl\")\n"
   ]
  },
  {
   "cell_type": "markdown",
   "metadata": {},
   "source": [
    "Now that the software package is installed. You don't have to do it again. If you enter the install.packages command again - R will download it again. You can use the **require** function to tell R not to install it unless it is not present. However you do have to load up the software for the particular session with the **library** command. In this way R is able to only load into memory the modules that you need saving a lot of time and resources.\n",
    "\n",
    "To use the readxl package type into the code cell below\n",
    "    \n",
    "    library(readxl)\n",
    "    \n",
    "Then type **Shift-Enter**\n",
    "\n",
    "If all went well - nothing should appear on the screen. No error messages is a good thing....\n",
    "\n",
    "Did you notice what happened to the line number ln() while it was running? Try it again if you didn't. \n",
    "What happens to the line number after you are done?\n",
    "\n",
    "You can see how this is helpful in knowing what steps you have actually executed and what steps are still not finished running."
   ]
  },
  {
   "cell_type": "code",
   "execution_count": 31,
   "metadata": {},
   "outputs": [],
   "source": [
    "    library(readxl)"
   ]
  },
  {
   "cell_type": "markdown",
   "metadata": {},
   "source": [
    "Now the functions in the readxl library are available. You can always find information about the package by using Google or the built in help function. All CRAN packages come with a little vignette which serves as a tutorial. If you wish to try the built-in help - type \n",
    "\n",
    "    help(package=\"readxl\")\n",
    "    \n",
    "Then type **Shift-Enter** \n"
   ]
  },
  {
   "cell_type": "code",
   "execution_count": 32,
   "metadata": {},
   "outputs": [
    {
     "ename": "ERROR",
     "evalue": "Error in find.package(pkgName, lib.loc, verbose = verbose): there is no package called ‘readx1’\n",
     "output_type": "error",
     "traceback": [
      "Error in find.package(pkgName, lib.loc, verbose = verbose): there is no package called ‘readx1’\nTraceback:\n",
      "1. help(package = \"readx1\")",
      "2. library(help = package, lib.loc = lib.loc, character.only = TRUE)",
      "3. find.package(pkgName, lib.loc, verbose = verbose)",
      "4. stop(gettextf(\"there is no package called %s\", sQuote(pkg)), \n .     domain = NA)"
     ]
    }
   ],
   "source": [
    "#optional code \n",
    "    help(package=\"readx1\")"
   ]
  },
  {
   "cell_type": "markdown",
   "metadata": {},
   "source": [
    "Now let's use our file to read in our data using the read_excel function provided by the readxl library.\n",
    "\n",
    "Type the following lines int the next code cell\n",
    "\n",
    "    data_1<-read_excel(\"data/Data-1.xlsx\")\n",
    "    data_1\n",
    "\n",
    "Then type **Shift-Enter** \n",
    "\n",
    "The first line reads in the file into a **dataframe** called data_1. A dataframe is a type of R object that is a table with optional row and column headers just like an Excel spreadsheet. Notice that we used an underscore for the name - spaces and - are not allowed in R variable names. Notice that R uses **<-** to assign values to a variable. It can also use **=**.\n",
    "\n",
    "The second line prints out the contents. You can always display the contents by just typing the name of the object."
   ]
  },
  {
   "cell_type": "code",
   "execution_count": 33,
   "metadata": {},
   "outputs": [
    {
     "data": {
      "text/html": [
       "<table>\n",
       "<thead><tr><th scope=col>Leadership.Scores</th></tr></thead>\n",
       "<tbody>\n",
       "\t<tr><td>30</td></tr>\n",
       "\t<tr><td>33</td></tr>\n",
       "\t<tr><td>39</td></tr>\n",
       "\t<tr><td>42</td></tr>\n",
       "\t<tr><td>44</td></tr>\n",
       "\t<tr><td>45</td></tr>\n",
       "\t<tr><td>46</td></tr>\n",
       "\t<tr><td>47</td></tr>\n",
       "\t<tr><td>46</td></tr>\n",
       "\t<tr><td>48</td></tr>\n",
       "\t<tr><td>48</td></tr>\n",
       "\t<tr><td>49</td></tr>\n",
       "\t<tr><td>49</td></tr>\n",
       "\t<tr><td>50</td></tr>\n",
       "\t<tr><td>51</td></tr>\n",
       "\t<tr><td>52</td></tr>\n",
       "\t<tr><td>53</td></tr>\n",
       "\t<tr><td>54</td></tr>\n",
       "\t<tr><td>55</td></tr>\n",
       "\t<tr><td>55</td></tr>\n",
       "\t<tr><td>56</td></tr>\n",
       "\t<tr><td>57</td></tr>\n",
       "\t<tr><td>59</td></tr>\n",
       "\t<tr><td>62</td></tr>\n",
       "\t<tr><td>68</td></tr>\n",
       "\t<tr><td>50</td></tr>\n",
       "\t<tr><td>50</td></tr>\n",
       "\t<tr><td>51</td></tr>\n",
       "\t<tr><td>52</td></tr>\n",
       "\t<tr><td>53</td></tr>\n",
       "</tbody>\n",
       "</table>\n"
      ],
      "text/latex": [
       "\\begin{tabular}{r|l}\n",
       " Leadership.Scores\\\\\n",
       "\\hline\n",
       "\t 30\\\\\n",
       "\t 33\\\\\n",
       "\t 39\\\\\n",
       "\t 42\\\\\n",
       "\t 44\\\\\n",
       "\t 45\\\\\n",
       "\t 46\\\\\n",
       "\t 47\\\\\n",
       "\t 46\\\\\n",
       "\t 48\\\\\n",
       "\t 48\\\\\n",
       "\t 49\\\\\n",
       "\t 49\\\\\n",
       "\t 50\\\\\n",
       "\t 51\\\\\n",
       "\t 52\\\\\n",
       "\t 53\\\\\n",
       "\t 54\\\\\n",
       "\t 55\\\\\n",
       "\t 55\\\\\n",
       "\t 56\\\\\n",
       "\t 57\\\\\n",
       "\t 59\\\\\n",
       "\t 62\\\\\n",
       "\t 68\\\\\n",
       "\t 50\\\\\n",
       "\t 50\\\\\n",
       "\t 51\\\\\n",
       "\t 52\\\\\n",
       "\t 53\\\\\n",
       "\\end{tabular}\n"
      ],
      "text/markdown": [
       "\n",
       "Leadership.Scores | \n",
       "|---|---|---|---|---|---|---|---|---|---|---|---|---|---|---|---|---|---|---|---|---|---|---|---|---|---|---|---|---|---|\n",
       "| 30 | \n",
       "| 33 | \n",
       "| 39 | \n",
       "| 42 | \n",
       "| 44 | \n",
       "| 45 | \n",
       "| 46 | \n",
       "| 47 | \n",
       "| 46 | \n",
       "| 48 | \n",
       "| 48 | \n",
       "| 49 | \n",
       "| 49 | \n",
       "| 50 | \n",
       "| 51 | \n",
       "| 52 | \n",
       "| 53 | \n",
       "| 54 | \n",
       "| 55 | \n",
       "| 55 | \n",
       "| 56 | \n",
       "| 57 | \n",
       "| 59 | \n",
       "| 62 | \n",
       "| 68 | \n",
       "| 50 | \n",
       "| 50 | \n",
       "| 51 | \n",
       "| 52 | \n",
       "| 53 | \n",
       "\n",
       "\n"
      ],
      "text/plain": [
       "   Leadership.Scores\n",
       "1  30               \n",
       "2  33               \n",
       "3  39               \n",
       "4  42               \n",
       "5  44               \n",
       "6  45               \n",
       "7  46               \n",
       "8  47               \n",
       "9  46               \n",
       "10 48               \n",
       "11 48               \n",
       "12 49               \n",
       "13 49               \n",
       "14 50               \n",
       "15 51               \n",
       "16 52               \n",
       "17 53               \n",
       "18 54               \n",
       "19 55               \n",
       "20 55               \n",
       "21 56               \n",
       "22 57               \n",
       "23 59               \n",
       "24 62               \n",
       "25 68               \n",
       "26 50               \n",
       "27 50               \n",
       "28 51               \n",
       "29 52               \n",
       "30 53               "
      ]
     },
     "metadata": {},
     "output_type": "display_data"
    }
   ],
   "source": [
    "data_1<-read_excel(\"data/Data-1.xlsx\")\n",
    "data_1"
   ]
  },
  {
   "cell_type": "markdown",
   "metadata": {},
   "source": [
    "In R once the data is read into a variable such as data_1, it stays in memory until you end the session by logging out, and even then you have the option of saving your session if you don't want to reload all your data.\n",
    "\n",
    "So now that we have the data in a dataframe - let's print out a histogram of the scores and take a look at the data\n",
    "\n",
    "Type the following lines int the next code cell\n",
    "\n",
    "    scores<-unlist(data_1[,1])\n",
    "    hist(scores)\n",
    "    \n",
    "Then type **Shift-Enter**\n",
    "\n",
    "The first line chooses the first column from the dataframe i.e. data_1[,1]. The second column (if there was a second column would be data_1[,2] etc. The first row would be data_1[1,]. The column header is ignored by default.\n",
    "\n",
    "Dataframes like Excel tables can have more than numbers so the column is a **list** object in R. We need to tell R that this really is a all numbers and not to worry that there may be text in there. This is done by the unlist function in the first line\n",
    "\n",
    "The second line calls the hist function on the numeric object Scores to generate the histogram."
   ]
  },
  {
   "cell_type": "code",
   "execution_count": 11,
   "metadata": {},
   "outputs": [
    {
     "data": {
      "image/png": "[encoded data removed]",
      "text/plain": [
       "Plot with title “Histogram of scores”"
      ]
     },
     "metadata": {},
     "output_type": "display_data"
    }
   ],
   "source": [
    "scores<-unlist(data_1[,1])\n",
    "hist(scores)"
   ]
  },
  {
   "cell_type": "markdown",
   "metadata": {},
   "source": [
    "Although R can be used just in interactive mode like a big calculator or fancy spreadsheet - it is also a programming language. In fact you have just written your first R program. The previous lines of code can be pasted into a code cell or R console window, or saved as a text file and run as a program. Try pasting the following lines into the next code cell and typing **Shift-enter** to execute.\n",
    "\n",
    "    require(\"readxl\")\n",
    "    library(readxl)\n",
    "    data_1 <- read_excel(\"data/Data-1.xlsx\")\n",
    "    scores<-unlist(data_1[,1])\n",
    "    hist(scores)"
   ]
  },
  {
   "cell_type": "code",
   "execution_count": 13,
   "metadata": {},
   "outputs": [
    {
     "data": {
      "image/png": "[encoded data removed]",
      "text/plain": [
       "Plot with title “Histogram of scores”"
      ]
     },
     "metadata": {},
     "output_type": "display_data"
    }
   ],
   "source": [
    "require(\"readxl\")\n",
    "library(readxl)\n",
    "data_1 <- read_excel(\"data/Data-1.xlsx\")\n",
    "scores<-unlist(data_1[,1])\n",
    "hist(scores)"
   ]
  },
  {
   "cell_type": "markdown",
   "metadata": {},
   "source": [
    "Our little program is restricted to using the file **Data-1.xlsx**. We could cut and paste it each time and change the filename when we want but what if we wanted to generate for a set of files. For this we want to generalize our histogram routine by defining a **function** in R\n",
    "\n",
    "To generalize it we basically replace the filename with something that can change or vary its contents. We call this a variable - much like variables in high school algebra when you are dealing with equations and formalas. \n",
    "\n",
    "We can call variables pretty much whatever we want (there are restrictions - don't have spaces - don't use reserved characters like = and commonsense stuff). Now it may be tempting to have short variables names like x and y or a and b to avoid typing but who's going to remember that when you look at this a year later...?\n",
    "\n",
    "So let's use the variable 'filename' to replace our filename abd define a function or mini-program.\n",
    "\n",
    "Cut and paste the following lines into the code window.\n",
    "\n",
    "    makeHistogram <- function(filename){\n",
    "     \n",
    "     require(\"readxl\")\n",
    "     library(readxl)\n",
    "     data_1 <- read_excel(filename)\n",
    "     scores<-unlist(data_1[,1])\n",
    "     hist(scores)    \n",
    "  \n",
    "    }"
   ]
  },
  {
   "cell_type": "code",
   "execution_count": 14,
   "metadata": {},
   "outputs": [],
   "source": [
    "makeHistogram <- function(filename){\n",
    "    \n",
    "    require(\"readxl\")\n",
    "    library(readxl)\n",
    "    data_1 <- read_excel(filename)\n",
    "    scores <- unlist(data_1[,1])\n",
    "    hist(scores)\n",
    "}"
   ]
  },
  {
   "cell_type": "markdown",
   "metadata": {},
   "source": [
    "All we did was wrap the lines that we had typed inside a function definition and change the filename to a variable so that it can be called on any file.\n",
    "\n",
    "Try our custom function on different files by typing followed by **Shift-Enter**\n",
    "\n",
    "    makeHistogram(\"data/Data-3.xlsx\")\n",
    "\n"
   ]
  },
  {
   "cell_type": "code",
   "execution_count": 15,
   "metadata": {},
   "outputs": [
    {
     "data": {
      "image/png": "[encoded data removed]",
      "text/plain": [
       "Plot with title “Histogram of scores”"
      ]
     },
     "metadata": {},
     "output_type": "display_data"
    }
   ],
   "source": [
    "makeHistogram(\"data/Data-3.xlsx\")"
   ]
  },
  {
   "cell_type": "markdown",
   "metadata": {},
   "source": [
    "It is a very common workflow for a researcher to go through a set of commands to analyse a particular dataset and then save the instructions as a script to be called again on a different set of data. If it is called many times we can make a function out of it to avoid cutting and pasting filenames into a block of instructions or to use the function inside a larger workflow or program.\n",
    "\n",
    "For example, now that we have a function we can make histograms for all our Excel files using two lines.\n",
    "\n",
    "Type the following and execute as before using **Shift-enter**\n",
    "    \n",
    "    fileList <- Sys.glob (\"data/*.xlsx\")\n",
    "    lapply(fileList,makeHistogram)\n",
    "\n",
    "The first line looks for all files in the current directory that ends with .xlsx. The \\* is called  wildcard and is matched to any pattern. This list is saved in fileList.\n",
    "\n",
    "In a typical programming language we might use a loop to go through each of the elements in this list and call the function. R has a simpler method. You can use the function **lapply** to apply a function to a list. Yse lapply to apply the makeHistogram functipon to fileList and make histograms for each of the files. The same method can be used for any list and function. In this way you can work out an analytical workflow for a simple dataset and then apply it to your real datasets - all at once.\n",
    "\n",
    "The concept of apply should be somewhat familiar to a user of Excel. It's like pasting a formula down to apply it to a whole colume like here: https://www.ablebits.com/office-addins-blog/2016/01/20/copy-formula-excel/\n",
    "\n",
    "Same idea only with a list. R has an entire set of apply functions for tables and matrices as well. If you want to play with them - take a look here https://www.datacamp.com/community/tutorials/r-tutorial-apply-family\n",
    "\n",
    "For the CS students - using apply is idiomatic R and is much much faster than using loops.\n"
   ]
  },
  {
   "cell_type": "code",
   "execution_count": 18,
   "metadata": {},
   "outputs": [],
   "source": [
    "fileList <- Sys.glob (\"data/*.xlsx\")"
   ]
  },
  {
   "cell_type": "markdown",
   "metadata": {},
   "source": [
    "### Generate the Central Tendencies Measures and Variability Indices of Data set 1. (mean, mode, median, standard deviations, variance)"
   ]
  },
  {
   "cell_type": "markdown",
   "metadata": {},
   "source": [
    "While a graph or histogram is a great way to look at a dataset, we also would like to distill some of the qualities in the graph into numbers or **statistics** that can be used to quantitatively compare data.\n",
    "\n",
    "One set of informative measure of a data distribution describes where the center of the data is. We can use mean, median and mode for this. Most commonly mean and median are used with mean being the *best* guess and having the nicest properties for comparisons. Median is often used instead when there are some values at the ends of the spectrum *outliers* that overly influence a mean. \n",
    "\n",
    "Another useful statistic describes the spread of the numbers and tells us how much it varies. Variance and standard deviation are used for this. Variance is actually the simpler one to use but because it on the square of the spread, the number doesn't match the spread that we see and we often use the square root of variance, or standard deviation.\n",
    "\n",
    "mean, median, variance and standard deviation can all be calculated by built-in R function. However, the mode function is reserved by R to find the data type of a variable and not the statistical mode.\n",
    "\n",
    "In these cases, it is often good to use the search engine to find a solution as many people have run into the same problem. A good site for programmers is stackoverflow and this includes R. More complicated questions can be found on cross validated which includes some advanced hard-core statistical questions.\n",
    "\n",
    "Type in the following into your search engine\n",
    "\n",
    "    R statistical mode stackoverflow\n",
    "\n",
    "and click on the stackoverflow link. You will see a very simple Mode function\n",
    "\n",
    "    Mode <- function(x) {\n",
    "      ux <- unique(x)\n",
    "      ux[which.max(tabulate(match(x, ux)))]\n",
    "    }\n",
    "Cut and paste this into the next code cell.\n"
   ]
  },
  {
   "cell_type": "code",
   "execution_count": 20,
   "metadata": {
    "scrolled": true
   },
   "outputs": [],
   "source": [
    "Mode <- function(x) {\n",
    "  ux <- unique(x)\n",
    "  ux[which.max(tabulate(match(x, ux)))]\n",
    "}"
   ]
  },
  {
   "cell_type": "markdown",
   "metadata": {},
   "source": [
    "## Exercise 2"
   ]
  },
  {
   "cell_type": "markdown",
   "metadata": {},
   "source": [
    "### Generate a Chi-Square Analysis for Data Set 2 “Smoking and Emphysema”.\n",
    "\n",
    "It is possible that the patterns that we see arise just by chance. Statistics can't tell you whether the relationship is **real** but it can give you an estimate of whether your hypothetical relationship could just be coincidence. What you do with the number is up to you...\n",
    "\n",
    "These tests are called significance tests and give you **p-values**. \n",
    "\n",
    "Let's take a look at the smoking and emphysema data\n",
    "Type the following into the next code window and **Shift-enter**\n",
    "\n",
    "\n",
    "    require(\"readxl\")\n",
    "    library(readxl)\n",
    "    data_2<-read_excel(\"data/Data-2.xlsx\")\n",
    "    data_2\n"
   ]
  },
  {
   "cell_type": "code",
   "execution_count": 21,
   "metadata": {},
   "outputs": [
    {
     "data": {
      "text/html": [
       "<table>\n",
       "<thead><tr><th scope=col>Smoking</th><th scope=col>Emphysema</th></tr></thead>\n",
       "<tbody>\n",
       "\t<tr><td>1</td><td>1</td></tr>\n",
       "\t<tr><td>1</td><td>1</td></tr>\n",
       "\t<tr><td>1</td><td>1</td></tr>\n",
       "\t<tr><td>1</td><td>1</td></tr>\n",
       "\t<tr><td>1</td><td>1</td></tr>\n",
       "\t<tr><td>1</td><td>1</td></tr>\n",
       "\t<tr><td>1</td><td>1</td></tr>\n",
       "\t<tr><td>1</td><td>1</td></tr>\n",
       "\t<tr><td>1</td><td>1</td></tr>\n",
       "\t<tr><td>1</td><td>1</td></tr>\n",
       "\t<tr><td>1</td><td>1</td></tr>\n",
       "\t<tr><td>1</td><td>1</td></tr>\n",
       "\t<tr><td>1</td><td>1</td></tr>\n",
       "\t<tr><td>1</td><td>1</td></tr>\n",
       "\t<tr><td>1</td><td>1</td></tr>\n",
       "\t<tr><td>1</td><td>1</td></tr>\n",
       "\t<tr><td>1</td><td>0</td></tr>\n",
       "\t<tr><td>1</td><td>0</td></tr>\n",
       "\t<tr><td>1</td><td>0</td></tr>\n",
       "\t<tr><td>1</td><td>0</td></tr>\n",
       "\t<tr><td>1</td><td>0</td></tr>\n",
       "\t<tr><td>1</td><td>0</td></tr>\n",
       "\t<tr><td>1</td><td>0</td></tr>\n",
       "\t<tr><td>1</td><td>0</td></tr>\n",
       "\t<tr><td>1</td><td>0</td></tr>\n",
       "\t<tr><td>1</td><td>0</td></tr>\n",
       "\t<tr><td>1</td><td>0</td></tr>\n",
       "\t<tr><td>1</td><td>0</td></tr>\n",
       "\t<tr><td>1</td><td>0</td></tr>\n",
       "\t<tr><td>1</td><td>0</td></tr>\n",
       "\t<tr><td>0</td><td>1</td></tr>\n",
       "\t<tr><td>0</td><td>1</td></tr>\n",
       "\t<tr><td>0</td><td>1</td></tr>\n",
       "\t<tr><td>0</td><td>1</td></tr>\n",
       "\t<tr><td>0</td><td>1</td></tr>\n",
       "\t<tr><td>0</td><td>0</td></tr>\n",
       "\t<tr><td>0</td><td>0</td></tr>\n",
       "\t<tr><td>0</td><td>0</td></tr>\n",
       "\t<tr><td>0</td><td>0</td></tr>\n",
       "\t<tr><td>0</td><td>0</td></tr>\n",
       "\t<tr><td>0</td><td>0</td></tr>\n",
       "\t<tr><td>0</td><td>0</td></tr>\n",
       "\t<tr><td>0</td><td>0</td></tr>\n",
       "\t<tr><td>0</td><td>0</td></tr>\n",
       "\t<tr><td>0</td><td>0</td></tr>\n",
       "\t<tr><td>0</td><td>0</td></tr>\n",
       "\t<tr><td>0</td><td>0</td></tr>\n",
       "\t<tr><td>0</td><td>0</td></tr>\n",
       "\t<tr><td>0</td><td>0</td></tr>\n",
       "\t<tr><td>0</td><td>0</td></tr>\n",
       "\t<tr><td>0</td><td>0</td></tr>\n",
       "\t<tr><td>0</td><td>0</td></tr>\n",
       "\t<tr><td>0</td><td>0</td></tr>\n",
       "\t<tr><td>0</td><td>0</td></tr>\n",
       "\t<tr><td>0</td><td>0</td></tr>\n",
       "\t<tr><td>0</td><td>0</td></tr>\n",
       "\t<tr><td>0</td><td>0</td></tr>\n",
       "\t<tr><td>0</td><td>0</td></tr>\n",
       "\t<tr><td>0</td><td>0</td></tr>\n",
       "\t<tr><td>0</td><td>0</td></tr>\n",
       "</tbody>\n",
       "</table>\n"
      ],
      "text/latex": [
       "\\begin{tabular}{r|ll}\n",
       " Smoking & Emphysema\\\\\n",
       "\\hline\n",
       "\t 1 & 1\\\\\n",
       "\t 1 & 1\\\\\n",
       "\t 1 & 1\\\\\n",
       "\t 1 & 1\\\\\n",
       "\t 1 & 1\\\\\n",
       "\t 1 & 1\\\\\n",
       "\t 1 & 1\\\\\n",
       "\t 1 & 1\\\\\n",
       "\t 1 & 1\\\\\n",
       "\t 1 & 1\\\\\n",
       "\t 1 & 1\\\\\n",
       "\t 1 & 1\\\\\n",
       "\t 1 & 1\\\\\n",
       "\t 1 & 1\\\\\n",
       "\t 1 & 1\\\\\n",
       "\t 1 & 1\\\\\n",
       "\t 1 & 0\\\\\n",
       "\t 1 & 0\\\\\n",
       "\t 1 & 0\\\\\n",
       "\t 1 & 0\\\\\n",
       "\t 1 & 0\\\\\n",
       "\t 1 & 0\\\\\n",
       "\t 1 & 0\\\\\n",
       "\t 1 & 0\\\\\n",
       "\t 1 & 0\\\\\n",
       "\t 1 & 0\\\\\n",
       "\t 1 & 0\\\\\n",
       "\t 1 & 0\\\\\n",
       "\t 1 & 0\\\\\n",
       "\t 1 & 0\\\\\n",
       "\t 0 & 1\\\\\n",
       "\t 0 & 1\\\\\n",
       "\t 0 & 1\\\\\n",
       "\t 0 & 1\\\\\n",
       "\t 0 & 1\\\\\n",
       "\t 0 & 0\\\\\n",
       "\t 0 & 0\\\\\n",
       "\t 0 & 0\\\\\n",
       "\t 0 & 0\\\\\n",
       "\t 0 & 0\\\\\n",
       "\t 0 & 0\\\\\n",
       "\t 0 & 0\\\\\n",
       "\t 0 & 0\\\\\n",
       "\t 0 & 0\\\\\n",
       "\t 0 & 0\\\\\n",
       "\t 0 & 0\\\\\n",
       "\t 0 & 0\\\\\n",
       "\t 0 & 0\\\\\n",
       "\t 0 & 0\\\\\n",
       "\t 0 & 0\\\\\n",
       "\t 0 & 0\\\\\n",
       "\t 0 & 0\\\\\n",
       "\t 0 & 0\\\\\n",
       "\t 0 & 0\\\\\n",
       "\t 0 & 0\\\\\n",
       "\t 0 & 0\\\\\n",
       "\t 0 & 0\\\\\n",
       "\t 0 & 0\\\\\n",
       "\t 0 & 0\\\\\n",
       "\t 0 & 0\\\\\n",
       "\\end{tabular}\n"
      ],
      "text/markdown": [
       "\n",
       "Smoking | Emphysema | \n",
       "|---|---|---|---|---|---|---|---|---|---|---|---|---|---|---|---|---|---|---|---|---|---|---|---|---|---|---|---|---|---|---|---|---|---|---|---|---|---|---|---|---|---|---|---|---|---|---|---|---|---|---|---|---|---|---|---|---|---|---|---|\n",
       "| 1 | 1 | \n",
       "| 1 | 1 | \n",
       "| 1 | 1 | \n",
       "| 1 | 1 | \n",
       "| 1 | 1 | \n",
       "| 1 | 1 | \n",
       "| 1 | 1 | \n",
       "| 1 | 1 | \n",
       "| 1 | 1 | \n",
       "| 1 | 1 | \n",
       "| 1 | 1 | \n",
       "| 1 | 1 | \n",
       "| 1 | 1 | \n",
       "| 1 | 1 | \n",
       "| 1 | 1 | \n",
       "| 1 | 1 | \n",
       "| 1 | 0 | \n",
       "| 1 | 0 | \n",
       "| 1 | 0 | \n",
       "| 1 | 0 | \n",
       "| 1 | 0 | \n",
       "| 1 | 0 | \n",
       "| 1 | 0 | \n",
       "| 1 | 0 | \n",
       "| 1 | 0 | \n",
       "| 1 | 0 | \n",
       "| 1 | 0 | \n",
       "| 1 | 0 | \n",
       "| 1 | 0 | \n",
       "| 1 | 0 | \n",
       "| 0 | 1 | \n",
       "| 0 | 1 | \n",
       "| 0 | 1 | \n",
       "| 0 | 1 | \n",
       "| 0 | 1 | \n",
       "| 0 | 0 | \n",
       "| 0 | 0 | \n",
       "| 0 | 0 | \n",
       "| 0 | 0 | \n",
       "| 0 | 0 | \n",
       "| 0 | 0 | \n",
       "| 0 | 0 | \n",
       "| 0 | 0 | \n",
       "| 0 | 0 | \n",
       "| 0 | 0 | \n",
       "| 0 | 0 | \n",
       "| 0 | 0 | \n",
       "| 0 | 0 | \n",
       "| 0 | 0 | \n",
       "| 0 | 0 | \n",
       "| 0 | 0 | \n",
       "| 0 | 0 | \n",
       "| 0 | 0 | \n",
       "| 0 | 0 | \n",
       "| 0 | 0 | \n",
       "| 0 | 0 | \n",
       "| 0 | 0 | \n",
       "| 0 | 0 | \n",
       "| 0 | 0 | \n",
       "| 0 | 0 | \n",
       "\n",
       "\n"
      ],
      "text/plain": [
       "   Smoking Emphysema\n",
       "1  1       1        \n",
       "2  1       1        \n",
       "3  1       1        \n",
       "4  1       1        \n",
       "5  1       1        \n",
       "6  1       1        \n",
       "7  1       1        \n",
       "8  1       1        \n",
       "9  1       1        \n",
       "10 1       1        \n",
       "11 1       1        \n",
       "12 1       1        \n",
       "13 1       1        \n",
       "14 1       1        \n",
       "15 1       1        \n",
       "16 1       1        \n",
       "17 1       0        \n",
       "18 1       0        \n",
       "19 1       0        \n",
       "20 1       0        \n",
       "21 1       0        \n",
       "22 1       0        \n",
       "23 1       0        \n",
       "24 1       0        \n",
       "25 1       0        \n",
       "26 1       0        \n",
       "27 1       0        \n",
       "28 1       0        \n",
       "29 1       0        \n",
       "30 1       0        \n",
       "31 0       1        \n",
       "32 0       1        \n",
       "33 0       1        \n",
       "34 0       1        \n",
       "35 0       1        \n",
       "36 0       0        \n",
       "37 0       0        \n",
       "38 0       0        \n",
       "39 0       0        \n",
       "40 0       0        \n",
       "41 0       0        \n",
       "42 0       0        \n",
       "43 0       0        \n",
       "44 0       0        \n",
       "45 0       0        \n",
       "46 0       0        \n",
       "47 0       0        \n",
       "48 0       0        \n",
       "49 0       0        \n",
       "50 0       0        \n",
       "51 0       0        \n",
       "52 0       0        \n",
       "53 0       0        \n",
       "54 0       0        \n",
       "55 0       0        \n",
       "56 0       0        \n",
       "57 0       0        \n",
       "58 0       0        \n",
       "59 0       0        \n",
       "60 0       0        "
      ]
     },
     "metadata": {},
     "output_type": "display_data"
    }
   ],
   "source": [
    "require(\"readxl\")\n",
    "library(readxl)\n",
    "data_2<-read_excel(\"data/Data-2.xlsx\")\n",
    "data_2"
   ]
  },
  {
   "cell_type": "markdown",
   "metadata": {},
   "source": [
    "It looks like the columns are related doesn't it. But let's quantify this using a statistical test. For this we will use the chi-squared test\n",
    "\n",
    "Type or paste the following code and execute with **Shift-enter\n",
    "\n",
    "    chisq.test(unlist(data_2[,1]),unlist(data_2[,2]),correct=FALSE)\n",
    "\n",
    "Or you can try to use the column names\n",
    "\n",
    "    chisq.test(unlist(data_2[,\"Smoking\"]),unlist(data_2[,\"Emphysema\"]),correct=FALSE)\n",
    "    \n",
    "So are emphysema and smoking related?\n",
    "Does smoking cause emphysema?"
   ]
  },
  {
   "cell_type": "code",
   "execution_count": 22,
   "metadata": {},
   "outputs": [
    {
     "data": {
      "text/plain": [
       "\n",
       "\tPearson's Chi-squared test\n",
       "\n",
       "data:  unlist(data_2[, 1]) and unlist(data_2[, 2])\n",
       "X-squared = 8.8645, df = 1, p-value = 0.002908\n"
      ]
     },
     "metadata": {},
     "output_type": "display_data"
    }
   ],
   "source": [
    "chisq.test(unlist(data_2[,1]),unlist(data_2[,2]),correct=FALSE)"
   ]
  },
  {
   "cell_type": "markdown",
   "metadata": {},
   "source": [
    "### GENERATE THE SCATTER PLOT OF DATA SET 3 “FATHER’S SCORE AND SON’S SCORE’."
   ]
  },
  {
   "cell_type": "markdown",
   "metadata": {},
   "source": [
    "One of the common questions that arises is whether two sets of data are related to each other. For example, you might suspect that scores between father and son would be closer than you would expect at random i.e. they are positively correlated.\n",
    "\n",
    "We can check this in may ways.\n",
    "\n",
    "First we can do is plot the two sets of values against each other to see whether there is some trend that we can detect automatically\n",
    "\n",
    "So type or paste in the fllowing code and execute using **Shift-enter**\n",
    "\n",
    "    require(\"readxl\")\n",
    "    library(readxl)\n",
    "    data_3<-read_excel(\"data/Data-3.xlsx\")\n",
    "    father<-unlist(data_3[,1])\n",
    "    son<-unlist(data_3[,2])\n",
    "    plot(father,son)\n",
    "\n",
    "By now you should understand most of the code here. Line by line this is what is happening\n",
    "\n",
    "    require(\"readxl\") \n",
    "Install the package readxl if necessary\n",
    " \n",
    "    library(readxl)   \n",
    "Load the package into memory for this session \n",
    "    \n",
    "    data_3<-read_excel(\"data/Data-3.xlsx\")\n",
    "Use the read_excel function from the package to read data into the data_3 dataframe\n",
    "\n",
    "    father<-unlist(data_3[,1]) \n",
    "Take the first column, transform it into numbers and put it into the father variable\n",
    "\n",
    "    son<-unlist(data_3[,e])\n",
    "Take the second column, transform it into numbers and put it into the son variable\n",
    "\n",
    "    plot(father,son)\n",
    "The final line is the only new part - it plots the data with the son scores being the x-coordinate and the father scores being the y coordinate\n"
   ]
  },
  {
   "cell_type": "code",
   "execution_count": 23,
   "metadata": {},
   "outputs": [
    {
     "data": {
      "image/png": "[encoded data removed]",
      "text/plain": [
       "plot without title"
      ]
     },
     "metadata": {},
     "output_type": "display_data"
    }
   ],
   "source": [
    "require(\"readxl\")\n",
    "library(readxl)\n",
    "data_3<-read_excel(\"data/Data-3.xlsx\")\n",
    "father<-unlist(data_3[,1])\n",
    "son<-unlist(data_3[,2])\n",
    "plot(father,son)"
   ]
  },
  {
   "cell_type": "markdown",
   "metadata": {},
   "source": [
    "### Derive the correlation between the two scores\n",
    "\n",
    "We can see thhat there is a linear relationship between the two scores. We can quantify the strength of the relationship using the Pearson correlation coefficient\n",
    "\n",
    "Type the following into the next coding cell and execute\n",
    "\n",
    "    paste(\"The correlation between the two scores is \",cor(father,son))\n",
    "\n",
    "Try a few things in the code box if you wish to get a feel for correlation.\n",
    "\n",
    "What happens if you switch the order i.e. cor(son,father)?\n",
    "What happens if you multiply the values by a constant (i.e. cor(5\\*father,son)?\n"
   ]
  },
  {
   "cell_type": "code",
   "execution_count": 24,
   "metadata": {},
   "outputs": [
    {
     "data": {
      "text/html": [
       "<span style=white-space:pre-wrap>'The correlation between the two scores is  0.846268778446843'</span>"
      ],
      "text/latex": [
       "'The correlation between the two scores is  0.846268778446843'"
      ],
      "text/markdown": [
       "<span style=white-space:pre-wrap>'The correlation between the two scores is  0.846268778446843'</span>"
      ],
      "text/plain": [
       "[1] \"The correlation between the two scores is  0.846268778446843\""
      ]
     },
     "metadata": {},
     "output_type": "display_data"
    }
   ],
   "source": [
    "paste(\"The correlation between the two scores is \",cor(father,son))"
   ]
  },
  {
   "cell_type": "markdown",
   "metadata": {},
   "source": [
    "### Derive the regression equation relating the two scores\n",
    "Let's try to further quantify the relationship between the scores by deriving an equation between the father and son scores. \n",
    "\n",
    "There are many ways of doing this - the simplest is drawing a straight line through the data. In business analyses this is sometimes called the \"trend\" line. \n",
    "\n",
    "\n",
    "We can find the best straight line that minimizes the distance from the points to the line by a process called **linear regression** where this trend line is a line of best fit.\n",
    "\n",
    "Type this into the next code cell and execute (that's a squiggle or tilde **\\~** between father and son)\n",
    "\n",
    "    lm(father~son)\n"
   ]
  },
  {
   "cell_type": "code",
   "execution_count": 25,
   "metadata": {},
   "outputs": [
    {
     "data": {
      "text/plain": [
       "\n",
       "Call:\n",
       "lm(formula = father ~ son)\n",
       "\n",
       "Coefficients:\n",
       "(Intercept)          son  \n",
       "     4.9295       0.8425  \n"
      ]
     },
     "metadata": {},
     "output_type": "display_data"
    }
   ],
   "source": [
    "lm(father~son)"
   ]
  },
  {
   "cell_type": "markdown",
   "metadata": {},
   "source": [
    "This gives you the slope and the intercept of the line so the equation of the best fitting line is\n",
    "\n",
    "**father = 0.845\\*son + 4.9295**\n",
    "\n",
    "Let's take a look at what the line looks like with the scatterplot\n",
    "\n",
    "Type the following into the next code cell and execute:\n",
    "\n",
    "    lm(father~son)\n",
    "    plot(father,son)\n",
    "    abline(lm(father~son))\n",
    "    \n",
    "The abline function plots the trend line or line of best fit onto the scatter plot.\n",
    "\n",
    "So what we've done is generate a model from the data. The best fit line is really a statement of how we think the data behaves and how we think we can predict values when we have data that we don't know. The art/science of data analysis/statistics is to come up with good models and rigorously evaluate them.\n"
   ]
  },
  {
   "cell_type": "code",
   "execution_count": 26,
   "metadata": {},
   "outputs": [
    {
     "data": {
      "text/plain": [
       "\n",
       "Call:\n",
       "lm(formula = father ~ son)\n",
       "\n",
       "Coefficients:\n",
       "(Intercept)          son  \n",
       "     4.9295       0.8425  \n"
      ]
     },
     "metadata": {},
     "output_type": "display_data"
    },
    {
     "data": {
      "image/png": "[encoded data removed]",
      "text/plain": [
       "plot without title"
      ]
     },
     "metadata": {},
     "output_type": "display_data"
    }
   ],
   "source": [
    "lm(father~son)\n",
    "plot(father,son)\n",
    "abline(lm(father~son))"
   ]
  },
  {
   "cell_type": "markdown",
   "metadata": {},
   "source": [
    "### GENERATE AN INDEPENDENT T-TEST FOR DATA SET 4 “IQ SCORES FOR DEPRESSED CHILDREN AND NON-DEPRESSED CHILDREN.”\n",
    "\n",
    "\n",
    "In the next dataset we look at IQ scores for depressed and non-depressed children and ask ourselves whether these two sets are different from each other. For this we used a t-test\n",
    "\n",
    "The steps which you can paste into the next cell and execute are\n",
    "\n",
    "    require(\"readxl\")\n",
    "    library(readxl)\n",
    "    data_4<-read_excel(\"data/Data-4.xlsx\")\n",
    "    depressed<-unlist(data_4[,1]);\n",
    "    normal<-unlist(data_4[,2])\n",
    "    t.test(depressed,normal)\n",
    "    \n",
    "This should be pretty standard for you now. The only new step is the final one to do the t-test\n",
    "If you want you can use our makeHistogram function to look at the normal and depressed data and see that they actually do look different.\n"
   ]
  },
  {
   "cell_type": "code",
   "execution_count": 27,
   "metadata": {},
   "outputs": [
    {
     "data": {
      "text/plain": [
       "\n",
       "\tWelch Two Sample t-test\n",
       "\n",
       "data:  depressed and normal\n",
       "t = -45.228, df = 24.093, p-value < 2.2e-16\n",
       "alternative hypothesis: true difference in means is not equal to 0\n",
       "95 percent confidence interval:\n",
       " -107.53198  -98.14802\n",
       "sample estimates:\n",
       "mean of x mean of y \n",
       "     1.60    104.44 \n"
      ]
     },
     "metadata": {},
     "output_type": "display_data"
    }
   ],
   "source": [
    "require(\"readxl\")\n",
    "library(readxl)\n",
    "data_4<-read_excel(\"data/Data-4.xlsx\")\n",
    "depressed<-unlist(data_4[,1]);\n",
    "normal<-unlist(data_4[,2])\n",
    "t.test(depressed,normal)"
   ]
  },
  {
   "cell_type": "markdown",
   "metadata": {},
   "source": [
    " ### GENERATE A PAIRED-T TEST FOR DATA SET 5. “MIRROR TRACING DATA’.\n",
    " \n",
    "There are many statistical tests - choosing the appropriate test is the difficult part but it is something that can be reaasoned out. The next set of data is really matched data and we should be comparing the differences between the matched data. If I scrambled the order of each of the datasets in the previous example it would not make a difference - here it does make a difference because the data is organized as pairs and a paired t-test is appropriate.\n",
    "\n",
    "The code to try in the next cell is:\n",
    "\n",
    "    require(\"readxl\")\n",
    "    library(readxl)\n",
    "    data_5<-read_excel(\"data/Data-5.xlsx\")\n",
    "    x<-unlist(data_5[,1]);\n",
    "    y<-unlist(data_5[,2])\n",
    "    t.test(x,y,paired=TRUE)\n",
    "\n",
    "The only difference is that we added the qualifier paired=TRUE to the function. "
   ]
  },
  {
   "cell_type": "code",
   "execution_count": 28,
   "metadata": {},
   "outputs": [
    {
     "data": {
      "text/plain": [
       "\n",
       "\tPaired t-test\n",
       "\n",
       "data:  x and y\n",
       "t = -4.1572, df = 19, p-value = 0.0005351\n",
       "alternative hypothesis: true difference in means is not equal to 0\n",
       "95 percent confidence interval:\n",
       " -9.77258 -3.22742\n",
       "sample estimates:\n",
       "mean of the differences \n",
       "                   -6.5 \n"
      ]
     },
     "metadata": {},
     "output_type": "display_data"
    }
   ],
   "source": [
    " require(\"readxl\")\n",
    "    library(readxl)\n",
    "    data_5<-read_excel(\"data/Data-5.xlsx\")\n",
    "    x<-unlist(data_5[,1]);\n",
    "    y<-unlist(data_5[,2])\n",
    "    t.test(x,y,paired=TRUE)"
   ]
  }
 ],
 "metadata": {
  "kernelspec": {
   "display_name": "R",
   "language": "R",
   "name": "ir"
  },
  "language_info": {
   "codemirror_mode": "r",
   "file_extension": ".r",
   "mimetype": "text/x-r-source",
   "name": "R",
   "pygments_lexer": "r",
   "version": "3.4.3"
  }
 },
 "nbformat": 4,
 "nbformat_minor": 2
}
