{
 "cells": [
  {
   "cell_type": "markdown",
   "metadata": {},
   "source": [
    "# <b><font size=\"45\" color=\"#4d2e89\"><center>Respitory Viral DREAM Project</center></b></font>\n",
    "<img src=\"uwtlogo.jpg\" align=\"middle\" display=\"inline-block\" height=\"275\" width=\"775\"/> \n",
    "--- \n",
    "### <center><i>Created by: Clarisa Leu-Rodriguez, Gurchetan Singh, Cassie Tran, & Doan Nguyen</center></i>"
   ]
  },
  {
   "cell_type": "markdown",
   "metadata": {},
   "source": [
    "## Purpose of Project\n",
    "--- \n",
    "&nbsp;&nbsp;&nbsp;&nbsp;The purpose of this project is to use and explore part of the dataset describing the time series gene expression data and clinical data for patients exposed to four different viruses (Influenze H1N1, Influenze H3N2, Respitory Syncytial Virus, and Rhinovirus) over time. The main gain of this project is to build predictors to distinguish people who become contagious and develop symptoms after exposure to flu and other respitory viruses.\n",
    "\n",
    "&nbsp;&nbsp;&nbsp;&nbsp;This notebook was created in part of the BioSummerSchool 2018 at the University of Washington Tacoma coordinated by Dr. Ka Yee Yeung, Associate Professor at the Institue of Technology. The objective of this summer program was to introduce students to concepts of bioinformatics, biostatistics, machine learning, data sciencce, applications of data analysis in biology, and experience working on biological data. This summer program ran from June 11th, 2018 to June 28th, 2018. In addition, students in this program gained hands-on experience doing statistical computing in R, using data science notebooks, and github."
   ]
  },
  {
   "cell_type": "markdown",
   "metadata": {},
   "source": [
    "## Background Information\n",
    "&nbsp;&nbsp;&nbsp;&nbsp;Illness was measured in three ways, viral shedding - a measure of those individuals who contract the virus and become contagious; sysmtomatic manifestations of illness - indication individuals that show overt signs of illness; and overall sympthom burden - a measure of how sick each individual becomes. Data was collected from healty volunteers exposed to a respitory virus within a controlled experimental setting where some became ill and others did not despite the same exposure. Prelimanary evidence from the organizing team demonstrates that the data in interest contains information capabale of supporting predictive modeling efforts, and it is the anticipation of this project that leverage the temporal nature of the dataset will be able to meaningfully build on these baseline observations. As such, this chanllege will (a) identify predictors of viral infectrom from pre- and early- exposure time points and (b) provide a venue to benchmark predictive models built on temporal data.\n",
    "\n",
    "\n",
    "### Data\n",
    "#### Visualization\n",
    "##### For a given gene & a given virus, use x-y plots to visualize how the expression pattern changes over time.\n",
    "#### Regression\n",
    "##### For a given virus or study, fit a linear regression model of the relationships between log symptom score and gene expression values at time 0. Each data point corresponds to a patient. Repeat using a later time point. Does this regression relationship change over time?\n",
    "#### Pairwise Relationships\n",
    "##### For a given virus and a given patient, compute the  pairwise correlation coefficients between all pair of genes over time. (a) Which pairs of genes give the highest correlation? (b) Which pairs of genes give the lowest correlation? (c) Use a histogram to plot the distribution of these pairwise correlation coefficients.\n",
    "\n",
    "***"
   ]
  },
  {
   "cell_type": "markdown",
   "metadata": {},
   "source": [
    "## Data Analysis\n",
    "*** "
   ]
  },
  {
   "cell_type": "markdown",
   "metadata": {},
   "source": [
    "## Conclusion\n",
    "***"
   ]
  },
  {
   "cell_type": "code",
   "execution_count": null,
   "metadata": {},
   "outputs": [],
   "source": []
  }
 ],
 "metadata": {
  "kernelspec": {
   "display_name": "R",
   "language": "R",
   "name": "ir"
  },
  "language_info": {
   "codemirror_mode": "r",
   "file_extension": ".r",
   "mimetype": "text/x-r-source",
   "name": "R",
   "pygments_lexer": "r",
   "version": "3.4.3"
  }
 },
 "nbformat": 4,
 "nbformat_minor": 2
}
