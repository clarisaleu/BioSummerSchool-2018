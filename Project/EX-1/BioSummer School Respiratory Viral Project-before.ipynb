{
 "cells": [
  {
   "cell_type": "markdown",
   "metadata": {},
   "source": [
    "# Overview of Challenge"
   ]
  },
  {
   "cell_type": "markdown",
   "metadata": {},
   "source": [
    "In the Respiratory Viral DREAM challenge (https://www.synapse.org/#!Synapse:syn5647810/wiki/399103), participants are given time series gene expression data and clinical data for patients exposed to four different viruses (Influenza H1N1, Influenza H3N2, Respiratory Syncytial Virus, or Rhinovirus) over time.  Our goal is to build predictors to distinguish people who become contagious and develop symptoms after exposure to flu and other respiratory viruses.\n"
   ]
  },
  {
   "cell_type": "markdown",
   "metadata": {},
   "source": [
    "In this group project, you are asked to use and explore part of this dataset. Due to the size of the full data, we provide you with data subsets to simplify the tasks.\n"
   ]
  },
  {
   "cell_type": "markdown",
   "metadata": {},
   "source": [
    "## Simplified dataset 1: “RMA368_DEE3H1N1_time0.txt”"
   ]
  },
  {
   "cell_type": "markdown",
   "metadata": {},
   "source": [
    "For one study and one virus (DEE3 H1N1), the expression patterns of 23 patients at time 0 across 368 genes are profiled. Specifically, each gene is in a row and each column is a time point.\n",
    "\n",
    "Question: Can you read this dataset in and explore this data?\n"
   ]
  },
  {
   "cell_type": "markdown",
   "metadata": {},
   "source": [
    "First, we would like to read in the dataset into a variable named \"rma368.h1n1.t0\"."
   ]
  },
  {
   "cell_type": "code",
   "execution_count": 102,
   "metadata": {},
   "outputs": [],
   "source": [
    "rma368.h1n1.t0 <- read.table (\"RMA368_DEE3H1N1_time0.txt\", sep=\"\\t\", header=T)"
   ]
  },
  {
   "cell_type": "markdown",
   "metadata": {},
   "source": [
    "Second, we would like to check the dimensions of the variable \"rma368.h1n1.t0\" which is a matrix with 368 rows (genes) and 23 columns (patients).  We also want to print out the first 5 rows and first 8 columns of the matrix.\n",
    "\n",
    "Exercise 1: can you modify my code to display the first gene across all 23 patients? "
   ]
  },
  {
   "cell_type": "code",
   "execution_count": 103,
   "metadata": {},
   "outputs": [
    {
     "data": {
      "text/html": [
       "<ol class=list-inline>\n",
       "\t<li>368</li>\n",
       "\t<li>23</li>\n",
       "</ol>\n"
      ],
      "text/latex": [
       "\\begin{enumerate*}\n",
       "\\item 368\n",
       "\\item 23\n",
       "\\end{enumerate*}\n"
      ],
      "text/markdown": [
       "1. 368\n",
       "2. 23\n",
       "\n",
       "\n"
      ],
      "text/plain": [
       "[1] 368  23"
      ]
     },
     "metadata": {},
     "output_type": "display_data"
    },
    {
     "data": {
      "text/html": [
       "<table>\n",
       "<thead><tr><th></th><th scope=col>X2011_92937_H133A2_22884_DU09.06S06256.CEL</th><th scope=col>X2011_93001_H133A2_22820_DU09.06S07844.CEL</th><th scope=col>X2011_93002_H133A2_22836_DU09.06S07954.CEL</th><th scope=col>X2011_93003_H133A2_22868_DU09.06S07865.CEL</th><th scope=col>X2011_93004_H133A2_22852_DU09.06S07948.CEL</th><th scope=col>X2011_93015_H133A2_22916_DU09.06S06250.CEL</th><th scope=col>X2011_93080_H133A2_22964_DU09.06S07853.CEL</th><th scope=col>X2011_93081_H133A2_22900_DU09.06S07847.CEL</th></tr></thead>\n",
       "<tbody>\n",
       "\t<tr><th scope=row>200067_x_at</th><td>10.847857</td><td>11.030098</td><td>10.817552</td><td>10.725241</td><td>10.928722</td><td>10.910831</td><td>10.926550</td><td>11.501007</td></tr>\n",
       "\t<tr><th scope=row>200627_at</th><td>11.596547</td><td>11.564887</td><td>11.526044</td><td>11.758409</td><td>11.485196</td><td>11.272958</td><td>11.641441</td><td>12.171589</td></tr>\n",
       "\t<tr><th scope=row>200730_s_at</th><td> 7.644905</td><td> 7.166402</td><td> 8.661309</td><td> 7.288548</td><td> 7.119844</td><td> 6.760724</td><td> 6.742913</td><td> 7.965711</td></tr>\n",
       "\t<tr><th scope=row>200752_s_at</th><td> 9.345438</td><td> 9.208787</td><td> 9.180073</td><td> 9.571351</td><td> 9.679252</td><td> 9.437136</td><td> 9.433927</td><td> 9.234538</td></tr>\n",
       "\t<tr><th scope=row>200787_s_at</th><td> 8.126602</td><td> 7.556015</td><td> 8.078796</td><td> 7.948102</td><td> 7.232327</td><td> 7.890063</td><td> 7.615351</td><td> 7.904660</td></tr>\n",
       "</tbody>\n",
       "</table>\n"
      ],
      "text/latex": [
       "\\begin{tabular}{r|llllllll}\n",
       "  & X2011\\_92937\\_H133A2\\_22884\\_DU09.06S06256.CEL & X2011\\_93001\\_H133A2\\_22820\\_DU09.06S07844.CEL & X2011\\_93002\\_H133A2\\_22836\\_DU09.06S07954.CEL & X2011\\_93003\\_H133A2\\_22868\\_DU09.06S07865.CEL & X2011\\_93004\\_H133A2\\_22852\\_DU09.06S07948.CEL & X2011\\_93015\\_H133A2\\_22916\\_DU09.06S06250.CEL & X2011\\_93080\\_H133A2\\_22964\\_DU09.06S07853.CEL & X2011\\_93081\\_H133A2\\_22900\\_DU09.06S07847.CEL\\\\\n",
       "\\hline\n",
       "\t200067\\_x\\_at & 10.847857 & 11.030098 & 10.817552 & 10.725241 & 10.928722 & 10.910831 & 10.926550 & 11.501007\\\\\n",
       "\t200627\\_at & 11.596547 & 11.564887 & 11.526044 & 11.758409 & 11.485196 & 11.272958 & 11.641441 & 12.171589\\\\\n",
       "\t200730\\_s\\_at &  7.644905 &  7.166402 &  8.661309 &  7.288548 &  7.119844 &  6.760724 &  6.742913 &  7.965711\\\\\n",
       "\t200752\\_s\\_at &  9.345438 &  9.208787 &  9.180073 &  9.571351 &  9.679252 &  9.437136 &  9.433927 &  9.234538\\\\\n",
       "\t200787\\_s\\_at &  8.126602 &  7.556015 &  8.078796 &  7.948102 &  7.232327 &  7.890063 &  7.615351 &  7.904660\\\\\n",
       "\\end{tabular}\n"
      ],
      "text/markdown": [
       "\n",
       "| <!--/--> | X2011_92937_H133A2_22884_DU09.06S06256.CEL | X2011_93001_H133A2_22820_DU09.06S07844.CEL | X2011_93002_H133A2_22836_DU09.06S07954.CEL | X2011_93003_H133A2_22868_DU09.06S07865.CEL | X2011_93004_H133A2_22852_DU09.06S07948.CEL | X2011_93015_H133A2_22916_DU09.06S06250.CEL | X2011_93080_H133A2_22964_DU09.06S07853.CEL | X2011_93081_H133A2_22900_DU09.06S07847.CEL | \n",
       "|---|---|---|---|---|\n",
       "| 200067_x_at | 10.847857 | 11.030098 | 10.817552 | 10.725241 | 10.928722 | 10.910831 | 10.926550 | 11.501007 | \n",
       "| 200627_at | 11.596547 | 11.564887 | 11.526044 | 11.758409 | 11.485196 | 11.272958 | 11.641441 | 12.171589 | \n",
       "| 200730_s_at |  7.644905 |  7.166402 |  8.661309 |  7.288548 |  7.119844 |  6.760724 |  6.742913 |  7.965711 | \n",
       "| 200752_s_at |  9.345438 |  9.208787 |  9.180073 |  9.571351 |  9.679252 |  9.437136 |  9.433927 |  9.234538 | \n",
       "| 200787_s_at |  8.126602 |  7.556015 |  8.078796 |  7.948102 |  7.232327 |  7.890063 |  7.615351 |  7.904660 | \n",
       "\n",
       "\n"
      ],
      "text/plain": [
       "            X2011_92937_H133A2_22884_DU09.06S06256.CEL\n",
       "200067_x_at 10.847857                                 \n",
       "200627_at   11.596547                                 \n",
       "200730_s_at  7.644905                                 \n",
       "200752_s_at  9.345438                                 \n",
       "200787_s_at  8.126602                                 \n",
       "            X2011_93001_H133A2_22820_DU09.06S07844.CEL\n",
       "200067_x_at 11.030098                                 \n",
       "200627_at   11.564887                                 \n",
       "200730_s_at  7.166402                                 \n",
       "200752_s_at  9.208787                                 \n",
       "200787_s_at  7.556015                                 \n",
       "            X2011_93002_H133A2_22836_DU09.06S07954.CEL\n",
       "200067_x_at 10.817552                                 \n",
       "200627_at   11.526044                                 \n",
       "200730_s_at  8.661309                                 \n",
       "200752_s_at  9.180073                                 \n",
       "200787_s_at  8.078796                                 \n",
       "            X2011_93003_H133A2_22868_DU09.06S07865.CEL\n",
       "200067_x_at 10.725241                                 \n",
       "200627_at   11.758409                                 \n",
       "200730_s_at  7.288548                                 \n",
       "200752_s_at  9.571351                                 \n",
       "200787_s_at  7.948102                                 \n",
       "            X2011_93004_H133A2_22852_DU09.06S07948.CEL\n",
       "200067_x_at 10.928722                                 \n",
       "200627_at   11.485196                                 \n",
       "200730_s_at  7.119844                                 \n",
       "200752_s_at  9.679252                                 \n",
       "200787_s_at  7.232327                                 \n",
       "            X2011_93015_H133A2_22916_DU09.06S06250.CEL\n",
       "200067_x_at 10.910831                                 \n",
       "200627_at   11.272958                                 \n",
       "200730_s_at  6.760724                                 \n",
       "200752_s_at  9.437136                                 \n",
       "200787_s_at  7.890063                                 \n",
       "            X2011_93080_H133A2_22964_DU09.06S07853.CEL\n",
       "200067_x_at 10.926550                                 \n",
       "200627_at   11.641441                                 \n",
       "200730_s_at  6.742913                                 \n",
       "200752_s_at  9.433927                                 \n",
       "200787_s_at  7.615351                                 \n",
       "            X2011_93081_H133A2_22900_DU09.06S07847.CEL\n",
       "200067_x_at 11.501007                                 \n",
       "200627_at   12.171589                                 \n",
       "200730_s_at  7.965711                                 \n",
       "200752_s_at  9.234538                                 \n",
       "200787_s_at  7.904660                                 "
      ]
     },
     "metadata": {},
     "output_type": "display_data"
    }
   ],
   "source": [
    "dim (rma368.h1n1.t0)\n",
    "rma368.h1n1.t0[1:5, 1:8]"
   ]
  },
  {
   "cell_type": "markdown",
   "metadata": {},
   "source": [
    "To visualize the expression level of gene \"200067_x_at\" across all 23 time points, we can use a x-y plot in which the x-axis is time and the y-axis is the expression level.\n",
    "\n",
    "Exercise 2: Can you modify my code to visualize the expression pattern of a different gene (e.g. \"200730_s_at\") across all 23 time points?"
   ]
  },
  {
   "cell_type": "code",
   "execution_count": 104,
   "metadata": {},
   "outputs": [
    {
     "data": {
      "image/png": "[encoded data removed]",
      "text/plain": [
       "plot without title"
      ]
     },
     "metadata": {},
     "output_type": "display_data"
    }
   ],
   "source": [
    "plot (1:23, rma368.h1n1.t0[1,], type=\"l\", xlab=\"patients\", ylab=\"gene expression\")"
   ]
  },
  {
   "cell_type": "markdown",
   "metadata": {},
   "source": [
    "## Simplified dataset 2: “RMA368_DEE3H1N1_pt3005.txt”"
   ]
  },
  {
   "cell_type": "markdown",
   "metadata": {},
   "source": [
    "For one study (DEE3 H1N1), the expression patterns of 1 patient (SUBJECTID == 3005) across 368 genes are profiled over all 20 time points (-24.0, 0.0, 5.0, 12.0, 21.5, 29.0, 36.0, 45.5, 53.0, 60.0, 69.5, 77.0, 84.0, 93.5, 101.0, 108.0, 117.5, 125.0, 141.5, 165.5)"
   ]
  },
  {
   "cell_type": "markdown",
   "metadata": {},
   "source": [
    "First, we would like to read in the dataset into a variable named \"rma368.h1n1.3005\"."
   ]
  },
  {
   "cell_type": "code",
   "execution_count": 105,
   "metadata": {},
   "outputs": [],
   "source": [
    "rma368.h1n1.3005 <- read.table (\"RMA368_DEE3H1N1_pt3005.txt\", sep=\"\\t\", header=T)"
   ]
  },
  {
   "cell_type": "markdown",
   "metadata": {},
   "source": [
    "Now, we would like to check the dimension of the matrix and print out the values of the matrix for the first 4 rows and 6 columns."
   ]
  },
  {
   "cell_type": "code",
   "execution_count": 106,
   "metadata": {},
   "outputs": [
    {
     "data": {
      "text/html": [
       "<ol class=list-inline>\n",
       "\t<li>368</li>\n",
       "\t<li>20</li>\n",
       "</ol>\n"
      ],
      "text/latex": [
       "\\begin{enumerate*}\n",
       "\\item 368\n",
       "\\item 20\n",
       "\\end{enumerate*}\n"
      ],
      "text/markdown": [
       "1. 368\n",
       "2. 20\n",
       "\n",
       "\n"
      ],
      "text/plain": [
       "[1] 368  20"
      ]
     },
     "metadata": {},
     "output_type": "display_data"
    },
    {
     "data": {
      "text/html": [
       "<table>\n",
       "<thead><tr><th></th><th scope=col>X2011_92926_H133A2_22883_DU09.06S07628.CEL</th><th scope=col>X2011_92937_H133A2_22884_DU09.06S06256.CEL</th><th scope=col>X2011_92946_H133A2_22885_DU09.06S06678.CEL</th><th scope=col>X2011_92938_H133A2_22886_DU09.06S06855.CEL</th><th scope=col>X2011_92962_H133A2_22887_DU09.06S07004.CEL</th><th scope=col>X2011_92956_H133A2_22888_DU09.06S07428.CEL</th></tr></thead>\n",
       "<tbody>\n",
       "\t<tr><th scope=row>200067_x_at</th><td>11.004715</td><td>10.847857</td><td>11.143673</td><td>10.772784</td><td>10.743992</td><td>11.080735</td></tr>\n",
       "\t<tr><th scope=row>200627_at</th><td>11.548020</td><td>11.596547</td><td>11.810214</td><td>11.786357</td><td>11.906228</td><td>12.031596</td></tr>\n",
       "\t<tr><th scope=row>200730_s_at</th><td> 7.834549</td><td> 7.644905</td><td> 8.051044</td><td> 7.716418</td><td> 7.686275</td><td> 8.147753</td></tr>\n",
       "\t<tr><th scope=row>200752_s_at</th><td> 9.363679</td><td> 9.345438</td><td> 9.266459</td><td> 9.524045</td><td> 9.377208</td><td> 9.254766</td></tr>\n",
       "</tbody>\n",
       "</table>\n"
      ],
      "text/latex": [
       "\\begin{tabular}{r|llllll}\n",
       "  & X2011\\_92926\\_H133A2\\_22883\\_DU09.06S07628.CEL & X2011\\_92937\\_H133A2\\_22884\\_DU09.06S06256.CEL & X2011\\_92946\\_H133A2\\_22885\\_DU09.06S06678.CEL & X2011\\_92938\\_H133A2\\_22886\\_DU09.06S06855.CEL & X2011\\_92962\\_H133A2\\_22887\\_DU09.06S07004.CEL & X2011\\_92956\\_H133A2\\_22888\\_DU09.06S07428.CEL\\\\\n",
       "\\hline\n",
       "\t200067\\_x\\_at & 11.004715 & 10.847857 & 11.143673 & 10.772784 & 10.743992 & 11.080735\\\\\n",
       "\t200627\\_at & 11.548020 & 11.596547 & 11.810214 & 11.786357 & 11.906228 & 12.031596\\\\\n",
       "\t200730\\_s\\_at &  7.834549 &  7.644905 &  8.051044 &  7.716418 &  7.686275 &  8.147753\\\\\n",
       "\t200752\\_s\\_at &  9.363679 &  9.345438 &  9.266459 &  9.524045 &  9.377208 &  9.254766\\\\\n",
       "\\end{tabular}\n"
      ],
      "text/markdown": [
       "\n",
       "| <!--/--> | X2011_92926_H133A2_22883_DU09.06S07628.CEL | X2011_92937_H133A2_22884_DU09.06S06256.CEL | X2011_92946_H133A2_22885_DU09.06S06678.CEL | X2011_92938_H133A2_22886_DU09.06S06855.CEL | X2011_92962_H133A2_22887_DU09.06S07004.CEL | X2011_92956_H133A2_22888_DU09.06S07428.CEL | \n",
       "|---|---|---|---|\n",
       "| 200067_x_at | 11.004715 | 10.847857 | 11.143673 | 10.772784 | 10.743992 | 11.080735 | \n",
       "| 200627_at | 11.548020 | 11.596547 | 11.810214 | 11.786357 | 11.906228 | 12.031596 | \n",
       "| 200730_s_at |  7.834549 |  7.644905 |  8.051044 |  7.716418 |  7.686275 |  8.147753 | \n",
       "| 200752_s_at |  9.363679 |  9.345438 |  9.266459 |  9.524045 |  9.377208 |  9.254766 | \n",
       "\n",
       "\n"
      ],
      "text/plain": [
       "            X2011_92926_H133A2_22883_DU09.06S07628.CEL\n",
       "200067_x_at 11.004715                                 \n",
       "200627_at   11.548020                                 \n",
       "200730_s_at  7.834549                                 \n",
       "200752_s_at  9.363679                                 \n",
       "            X2011_92937_H133A2_22884_DU09.06S06256.CEL\n",
       "200067_x_at 10.847857                                 \n",
       "200627_at   11.596547                                 \n",
       "200730_s_at  7.644905                                 \n",
       "200752_s_at  9.345438                                 \n",
       "            X2011_92946_H133A2_22885_DU09.06S06678.CEL\n",
       "200067_x_at 11.143673                                 \n",
       "200627_at   11.810214                                 \n",
       "200730_s_at  8.051044                                 \n",
       "200752_s_at  9.266459                                 \n",
       "            X2011_92938_H133A2_22886_DU09.06S06855.CEL\n",
       "200067_x_at 10.772784                                 \n",
       "200627_at   11.786357                                 \n",
       "200730_s_at  7.716418                                 \n",
       "200752_s_at  9.524045                                 \n",
       "            X2011_92962_H133A2_22887_DU09.06S07004.CEL\n",
       "200067_x_at 10.743992                                 \n",
       "200627_at   11.906228                                 \n",
       "200730_s_at  7.686275                                 \n",
       "200752_s_at  9.377208                                 \n",
       "            X2011_92956_H133A2_22888_DU09.06S07428.CEL\n",
       "200067_x_at 11.080735                                 \n",
       "200627_at   12.031596                                 \n",
       "200730_s_at  8.147753                                 \n",
       "200752_s_at  9.254766                                 "
      ]
     },
     "metadata": {},
     "output_type": "display_data"
    }
   ],
   "source": [
    "dim (rma368.h1n1.3005)\n",
    "rma368.h1n1.3005[1:4, 1:6]"
   ]
  },
  {
   "cell_type": "markdown",
   "metadata": {},
   "source": [
    "Now, we see that this matrix consists of 368 rows (genes) and 20 columns (time points).\n",
    "\n",
    "Exercise 3: can you visualize the expression level of gene \"200067_x_at\" across all 20 time points using an x-y plot? (Hint: use \"plot\")"
   ]
  },
  {
   "cell_type": "code",
   "execution_count": null,
   "metadata": {},
   "outputs": [],
   "source": []
  },
  {
   "cell_type": "markdown",
   "metadata": {},
   "source": [
    "## Dataset 3: “RMA368_allCol.txt” and \"ViralChallenge_training_CLINICAL.tsv\""
   ]
  },
  {
   "cell_type": "markdown",
   "metadata": {},
   "source": [
    "The gene expression data “RMA368_allCol.txt\" consist of the expression patterns of patients across 368 genes are profiled over time across all 7 studies and 4 viruses.  In particular, this data consist of the following information: studies (viruses), patients, genes, time points.\n",
    "\n",
    "The clinical data “ViralChallenge_training_CLINICAL.tsv” consists of the following variables are provided across all 7 studies: age, gender, patient ID, whether the patients experience flu symptoms.\n"
   ]
  },
  {
   "cell_type": "code",
   "execution_count": 107,
   "metadata": {},
   "outputs": [],
   "source": [
    "# read the 368-gene subset of gene expression data\n",
    "rma368.all <- read.table (\"RMA368_allCol.txt\", sep=\"\\t\", header=T)"
   ]
  },
  {
   "cell_type": "code",
   "execution_count": 108,
   "metadata": {},
   "outputs": [],
   "source": [
    "# read the clinical data\n",
    "ant.mat <- read.table(\"ViralChallenge_training_CLINICAL.tsv\", header=T, sep=\"\\t\")"
   ]
  },
  {
   "cell_type": "code",
   "execution_count": 109,
   "metadata": {},
   "outputs": [
    {
     "data": {
      "text/html": [
       "<ol class=list-inline>\n",
       "\t<li>368</li>\n",
       "\t<li>2371</li>\n",
       "</ol>\n"
      ],
      "text/latex": [
       "\\begin{enumerate*}\n",
       "\\item 368\n",
       "\\item 2371\n",
       "\\end{enumerate*}\n"
      ],
      "text/markdown": [
       "1. 368\n",
       "2. 2371\n",
       "\n",
       "\n"
      ],
      "text/plain": [
       "[1]  368 2371"
      ]
     },
     "metadata": {},
     "output_type": "display_data"
    },
    {
     "data": {
      "text/html": [
       "<table>\n",
       "<thead><tr><th></th><th scope=col>X1590_266948_HG.U133A_2_41828_DU08.02S09371.CEL</th><th scope=col>X1359_54390_H133A2_16365_DU08.02S09500.CEL</th><th scope=col>X1359_54408_H133A2_16286_DU08.02S09374.CEL</th><th scope=col>X1359_54410_H133A2_16287_DU08.02S09357.CEL</th><th scope=col>X1359_54411_H133A2_16373_DU08.02S09360.CEL</th><th scope=col>X1359_54432_H133A2_16300_DU08.02S09151.CEL</th><th scope=col>X1359_54433_H133A2_16382_DU08.02S09154.CEL</th></tr></thead>\n",
       "<tbody>\n",
       "\t<tr><th scope=row>200067_x_at</th><td>10.888126</td><td>10.988891</td><td>11.069403</td><td>11.069570</td><td>10.857747</td><td>11.264895</td><td>10.851162</td></tr>\n",
       "\t<tr><th scope=row>200627_at</th><td>11.447026</td><td>11.019146</td><td>11.373531</td><td>11.868765</td><td>11.348666</td><td>11.461759</td><td>11.257542</td></tr>\n",
       "\t<tr><th scope=row>200730_s_at</th><td> 7.703739</td><td> 7.446203</td><td> 6.311763</td><td> 7.036484</td><td> 6.840041</td><td> 6.977609</td><td> 7.063635</td></tr>\n",
       "\t<tr><th scope=row>200752_s_at</th><td> 8.541403</td><td> 9.808968</td><td> 9.790882</td><td> 9.508485</td><td>10.035453</td><td> 8.920641</td><td> 9.549659</td></tr>\n",
       "\t<tr><th scope=row>200787_s_at</th><td> 7.759742</td><td> 7.636210</td><td> 7.093553</td><td> 8.444184</td><td> 8.357282</td><td> 8.119918</td><td> 8.064412</td></tr>\n",
       "</tbody>\n",
       "</table>\n"
      ],
      "text/latex": [
       "\\begin{tabular}{r|lllllll}\n",
       "  & X1590\\_266948\\_HG.U133A\\_2\\_41828\\_DU08.02S09371.CEL & X1359\\_54390\\_H133A2\\_16365\\_DU08.02S09500.CEL & X1359\\_54408\\_H133A2\\_16286\\_DU08.02S09374.CEL & X1359\\_54410\\_H133A2\\_16287\\_DU08.02S09357.CEL & X1359\\_54411\\_H133A2\\_16373\\_DU08.02S09360.CEL & X1359\\_54432\\_H133A2\\_16300\\_DU08.02S09151.CEL & X1359\\_54433\\_H133A2\\_16382\\_DU08.02S09154.CEL\\\\\n",
       "\\hline\n",
       "\t200067\\_x\\_at & 10.888126 & 10.988891 & 11.069403 & 11.069570 & 10.857747 & 11.264895 & 10.851162\\\\\n",
       "\t200627\\_at & 11.447026 & 11.019146 & 11.373531 & 11.868765 & 11.348666 & 11.461759 & 11.257542\\\\\n",
       "\t200730\\_s\\_at &  7.703739 &  7.446203 &  6.311763 &  7.036484 &  6.840041 &  6.977609 &  7.063635\\\\\n",
       "\t200752\\_s\\_at &  8.541403 &  9.808968 &  9.790882 &  9.508485 & 10.035453 &  8.920641 &  9.549659\\\\\n",
       "\t200787\\_s\\_at &  7.759742 &  7.636210 &  7.093553 &  8.444184 &  8.357282 &  8.119918 &  8.064412\\\\\n",
       "\\end{tabular}\n"
      ],
      "text/markdown": [
       "\n",
       "| <!--/--> | X1590_266948_HG.U133A_2_41828_DU08.02S09371.CEL | X1359_54390_H133A2_16365_DU08.02S09500.CEL | X1359_54408_H133A2_16286_DU08.02S09374.CEL | X1359_54410_H133A2_16287_DU08.02S09357.CEL | X1359_54411_H133A2_16373_DU08.02S09360.CEL | X1359_54432_H133A2_16300_DU08.02S09151.CEL | X1359_54433_H133A2_16382_DU08.02S09154.CEL | \n",
       "|---|---|---|---|---|\n",
       "| 200067_x_at | 10.888126 | 10.988891 | 11.069403 | 11.069570 | 10.857747 | 11.264895 | 10.851162 | \n",
       "| 200627_at | 11.447026 | 11.019146 | 11.373531 | 11.868765 | 11.348666 | 11.461759 | 11.257542 | \n",
       "| 200730_s_at |  7.703739 |  7.446203 |  6.311763 |  7.036484 |  6.840041 |  6.977609 |  7.063635 | \n",
       "| 200752_s_at |  8.541403 |  9.808968 |  9.790882 |  9.508485 | 10.035453 |  8.920641 |  9.549659 | \n",
       "| 200787_s_at |  7.759742 |  7.636210 |  7.093553 |  8.444184 |  8.357282 |  8.119918 |  8.064412 | \n",
       "\n",
       "\n"
      ],
      "text/plain": [
       "            X1590_266948_HG.U133A_2_41828_DU08.02S09371.CEL\n",
       "200067_x_at 10.888126                                      \n",
       "200627_at   11.447026                                      \n",
       "200730_s_at  7.703739                                      \n",
       "200752_s_at  8.541403                                      \n",
       "200787_s_at  7.759742                                      \n",
       "            X1359_54390_H133A2_16365_DU08.02S09500.CEL\n",
       "200067_x_at 10.988891                                 \n",
       "200627_at   11.019146                                 \n",
       "200730_s_at  7.446203                                 \n",
       "200752_s_at  9.808968                                 \n",
       "200787_s_at  7.636210                                 \n",
       "            X1359_54408_H133A2_16286_DU08.02S09374.CEL\n",
       "200067_x_at 11.069403                                 \n",
       "200627_at   11.373531                                 \n",
       "200730_s_at  6.311763                                 \n",
       "200752_s_at  9.790882                                 \n",
       "200787_s_at  7.093553                                 \n",
       "            X1359_54410_H133A2_16287_DU08.02S09357.CEL\n",
       "200067_x_at 11.069570                                 \n",
       "200627_at   11.868765                                 \n",
       "200730_s_at  7.036484                                 \n",
       "200752_s_at  9.508485                                 \n",
       "200787_s_at  8.444184                                 \n",
       "            X1359_54411_H133A2_16373_DU08.02S09360.CEL\n",
       "200067_x_at 10.857747                                 \n",
       "200627_at   11.348666                                 \n",
       "200730_s_at  6.840041                                 \n",
       "200752_s_at 10.035453                                 \n",
       "200787_s_at  8.357282                                 \n",
       "            X1359_54432_H133A2_16300_DU08.02S09151.CEL\n",
       "200067_x_at 11.264895                                 \n",
       "200627_at   11.461759                                 \n",
       "200730_s_at  6.977609                                 \n",
       "200752_s_at  8.920641                                 \n",
       "200787_s_at  8.119918                                 \n",
       "            X1359_54433_H133A2_16382_DU08.02S09154.CEL\n",
       "200067_x_at 10.851162                                 \n",
       "200627_at   11.257542                                 \n",
       "200730_s_at  7.063635                                 \n",
       "200752_s_at  9.549659                                 \n",
       "200787_s_at  8.064412                                 "
      ]
     },
     "metadata": {},
     "output_type": "display_data"
    },
    {
     "data": {
      "text/html": [
       "<ol class=list-inline>\n",
       "\t<li>2371</li>\n",
       "\t<li>12</li>\n",
       "</ol>\n"
      ],
      "text/latex": [
       "\\begin{enumerate*}\n",
       "\\item 2371\n",
       "\\item 12\n",
       "\\end{enumerate*}\n"
      ],
      "text/markdown": [
       "1. 2371\n",
       "2. 12\n",
       "\n",
       "\n"
      ],
      "text/plain": [
       "[1] 2371   12"
      ]
     },
     "metadata": {},
     "output_type": "display_data"
    },
    {
     "data": {
      "text/html": [
       "<table>\n",
       "<thead><tr><th scope=col>STUDYID</th><th scope=col>SUBJECTID</th><th scope=col>AGE</th><th scope=col>GENDER</th><th scope=col>EARLYTX</th><th scope=col>SHAM</th><th scope=col>SHEDDING_SC1</th><th scope=col>SYMPTOMATIC_SC2</th><th scope=col>LOGSYMPTSCORE_SC3</th><th scope=col>TIMEHOURS</th><th scope=col>SAMPLEID</th><th scope=col>CEL</th></tr></thead>\n",
       "<tbody>\n",
       "\t<tr><td>DEE1 RSV                                      </td><td>RSV004                                        </td><td>25                                            </td><td>Male                                          </td><td>NA                                            </td><td>NA                                            </td><td>0                                             </td><td>0                                             </td><td>0.0000000                                     </td><td>-24                                           </td><td>DU08-02S09371                                 </td><td>1590_266948_HG-U133A_2_41828_DU08-02S09371.CEL</td></tr>\n",
       "\t<tr><td>DEE1 RSV                                      </td><td>RSV020                                        </td><td>31                                            </td><td>Male                                          </td><td>NA                                            </td><td>NA                                            </td><td>1                                             </td><td>1                                             </td><td>1.2304489                                     </td><td>-24                                           </td><td>DU08-02S09500                                 </td><td>1359_54390_H133A2_16365_DU08-02S09500.CEL     </td></tr>\n",
       "\t<tr><td>DEE1 RSV                                      </td><td>RSV010                                        </td><td>30                                            </td><td>Female                                        </td><td>NA                                            </td><td>NA                                            </td><td>0                                             </td><td>0                                             </td><td>0.4771213                                     </td><td>-24                                           </td><td>DU08-02S09374                                 </td><td>1359_54408_H133A2_16286_DU08-02S09374.CEL     </td></tr>\n",
       "\t<tr><td>DEE1 RSV                                      </td><td>RSV009                                        </td><td>23                                            </td><td>Female                                        </td><td>NA                                            </td><td>NA                                            </td><td>0                                             </td><td>0                                             </td><td>0.4771213                                     </td><td>-24                                           </td><td>DU08-02S09357                                 </td><td>1359_54410_H133A2_16287_DU08-02S09357.CEL     </td></tr>\n",
       "\t<tr><td>DEE1 RSV                                      </td><td>RSV018                                        </td><td>22                                            </td><td>Male                                          </td><td>NA                                            </td><td>NA                                            </td><td>1                                             </td><td>1                                             </td><td>0.9030900                                     </td><td>-24                                           </td><td>DU08-02S09360                                 </td><td>1359_54411_H133A2_16373_DU08-02S09360.CEL     </td></tr>\n",
       "</tbody>\n",
       "</table>\n"
      ],
      "text/latex": [
       "\\begin{tabular}{r|llllllllllll}\n",
       " STUDYID & SUBJECTID & AGE & GENDER & EARLYTX & SHAM & SHEDDING\\_SC1 & SYMPTOMATIC\\_SC2 & LOGSYMPTSCORE\\_SC3 & TIMEHOURS & SAMPLEID & CEL\\\\\n",
       "\\hline\n",
       "\t DEE1 RSV                                                 & RSV004                                                   & 25                                                       & Male                                                     & NA                                                       & NA                                                       & 0                                                        & 0                                                        & 0.0000000                                                & -24                                                      & DU08-02S09371                                            & 1590\\_266948\\_HG-U133A\\_2\\_41828\\_DU08-02S09371.CEL\\\\\n",
       "\t DEE1 RSV                                               & RSV020                                                 & 31                                                     & Male                                                   & NA                                                     & NA                                                     & 1                                                      & 1                                                      & 1.2304489                                              & -24                                                    & DU08-02S09500                                          & 1359\\_54390\\_H133A2\\_16365\\_DU08-02S09500.CEL     \\\\\n",
       "\t DEE1 RSV                                               & RSV010                                                 & 30                                                     & Female                                                 & NA                                                     & NA                                                     & 0                                                      & 0                                                      & 0.4771213                                              & -24                                                    & DU08-02S09374                                          & 1359\\_54408\\_H133A2\\_16286\\_DU08-02S09374.CEL     \\\\\n",
       "\t DEE1 RSV                                               & RSV009                                                 & 23                                                     & Female                                                 & NA                                                     & NA                                                     & 0                                                      & 0                                                      & 0.4771213                                              & -24                                                    & DU08-02S09357                                          & 1359\\_54410\\_H133A2\\_16287\\_DU08-02S09357.CEL     \\\\\n",
       "\t DEE1 RSV                                               & RSV018                                                 & 22                                                     & Male                                                   & NA                                                     & NA                                                     & 1                                                      & 1                                                      & 0.9030900                                              & -24                                                    & DU08-02S09360                                          & 1359\\_54411\\_H133A2\\_16373\\_DU08-02S09360.CEL     \\\\\n",
       "\\end{tabular}\n"
      ],
      "text/markdown": [
       "\n",
       "STUDYID | SUBJECTID | AGE | GENDER | EARLYTX | SHAM | SHEDDING_SC1 | SYMPTOMATIC_SC2 | LOGSYMPTSCORE_SC3 | TIMEHOURS | SAMPLEID | CEL | \n",
       "|---|---|---|---|---|\n",
       "| DEE1 RSV                                       | RSV004                                         | 25                                             | Male                                           | NA                                             | NA                                             | 0                                              | 0                                              | 0.0000000                                      | -24                                            | DU08-02S09371                                  | 1590_266948_HG-U133A_2_41828_DU08-02S09371.CEL | \n",
       "| DEE1 RSV                                       | RSV020                                         | 31                                             | Male                                           | NA                                             | NA                                             | 1                                              | 1                                              | 1.2304489                                      | -24                                            | DU08-02S09500                                  | 1359_54390_H133A2_16365_DU08-02S09500.CEL      | \n",
       "| DEE1 RSV                                       | RSV010                                         | 30                                             | Female                                         | NA                                             | NA                                             | 0                                              | 0                                              | 0.4771213                                      | -24                                            | DU08-02S09374                                  | 1359_54408_H133A2_16286_DU08-02S09374.CEL      | \n",
       "| DEE1 RSV                                       | RSV009                                         | 23                                             | Female                                         | NA                                             | NA                                             | 0                                              | 0                                              | 0.4771213                                      | -24                                            | DU08-02S09357                                  | 1359_54410_H133A2_16287_DU08-02S09357.CEL      | \n",
       "| DEE1 RSV                                       | RSV018                                         | 22                                             | Male                                           | NA                                             | NA                                             | 1                                              | 1                                              | 0.9030900                                      | -24                                            | DU08-02S09360                                  | 1359_54411_H133A2_16373_DU08-02S09360.CEL      | \n",
       "\n",
       "\n"
      ],
      "text/plain": [
       "  STUDYID  SUBJECTID AGE GENDER EARLYTX SHAM SHEDDING_SC1 SYMPTOMATIC_SC2\n",
       "1 DEE1 RSV RSV004    25  Male   NA      NA   0            0              \n",
       "2 DEE1 RSV RSV020    31  Male   NA      NA   1            1              \n",
       "3 DEE1 RSV RSV010    30  Female NA      NA   0            0              \n",
       "4 DEE1 RSV RSV009    23  Female NA      NA   0            0              \n",
       "5 DEE1 RSV RSV018    22  Male   NA      NA   1            1              \n",
       "  LOGSYMPTSCORE_SC3 TIMEHOURS SAMPLEID     \n",
       "1 0.0000000         -24       DU08-02S09371\n",
       "2 1.2304489         -24       DU08-02S09500\n",
       "3 0.4771213         -24       DU08-02S09374\n",
       "4 0.4771213         -24       DU08-02S09357\n",
       "5 0.9030900         -24       DU08-02S09360\n",
       "  CEL                                           \n",
       "1 1590_266948_HG-U133A_2_41828_DU08-02S09371.CEL\n",
       "2 1359_54390_H133A2_16365_DU08-02S09500.CEL     \n",
       "3 1359_54408_H133A2_16286_DU08-02S09374.CEL     \n",
       "4 1359_54410_H133A2_16287_DU08-02S09357.CEL     \n",
       "5 1359_54411_H133A2_16373_DU08-02S09360.CEL     "
      ]
     },
     "metadata": {},
     "output_type": "display_data"
    }
   ],
   "source": [
    "dim (rma368.all)\n",
    "rma368.all[1:5, 1:7]\n",
    "dim (ant.mat)\n",
    "ant.mat[1:5,]"
   ]
  },
  {
   "cell_type": "code",
   "execution_count": null,
   "metadata": {},
   "outputs": [],
   "source": []
  },
  {
   "cell_type": "code",
   "execution_count": null,
   "metadata": {},
   "outputs": [],
   "source": []
  }
 ],
 "metadata": {
  "celltoolbar": "Edit Metadata",
  "kernelspec": {
   "display_name": "R",
   "language": "R",
   "name": "ir"
  },
  "language_info": {
   "codemirror_mode": "r",
   "file_extension": ".r",
   "mimetype": "text/x-r-source",
   "name": "R",
   "pygments_lexer": "r",
   "version": "3.4.3"
  }
 },
 "nbformat": 4,
 "nbformat_minor": 2
}
